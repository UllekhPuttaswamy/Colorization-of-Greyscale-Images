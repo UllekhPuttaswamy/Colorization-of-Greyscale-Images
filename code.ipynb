{
 "cells": [
  {
   "cell_type": "code",
   "execution_count": 1,
   "id": "bbfcdcbe",
   "metadata": {},
   "outputs": [],
   "source": [
    "\n",
    "import numpy as np\n",
    "import cv2"
   ]
  },
  {
   "cell_type": "code",
   "execution_count": 2,
   "id": "b2a7a14f",
   "metadata": {},
   "outputs": [],
   "source": [
    "protxt=r\"C:\\Users\\ullek\\Downloads\\colorization_deploy_v2.prototxt\"\n",
    "model=r\"C:\\Users\\ullek\\Downloads\\colorization_release_v2.caffemodel\"\n",
    "kernel=r\"C:\\Users\\ullek\\Downloads\\pts_in_hull.npy\"\n",
    "image=r'nature.jpg'\n"
   ]
  },
  {
   "cell_type": "code",
   "execution_count": 3,
   "id": "6c48b7ce",
   "metadata": {},
   "outputs": [],
   "source": [
    "net=cv2.dnn.readNetFromCaffe(protxt,model)\n",
    "points=np.load(kernel)\n",
    "\n",
    "\n",
    "points=points.transpose().reshape(2,313,1,1) \n",
    "net.getLayer(net.getLayerId(\"class8_ab\")).blobs=[points.astype(np.float32)]\n",
    "net.getLayer(net.getLayerId(\"conv8_313_rh\")).blobs=[np.full([1, 313],2.606,dtype=\"float32\")]"
   ]
  },
  {
   "cell_type": "code",
   "execution_count": 5,
   "id": "7bc76e47",
   "metadata": {},
   "outputs": [],
   "source": [
    "bw_image=cv2.imread(image)\n",
    "normalized=bw_image.astype(\"float32\") / 255.0\n",
    "lab=cv2.cvtColor(normalized,cv2.COLOR_BGR2LAB)\n",
    "\n",
    "resized=cv2.resize(lab,(224,224))\n",
    "L=cv2.split(resized)[0]\n",
    "L-=50\n",
    "\n",
    "net.setInput(cv2.dnn.blobFromImage(L))\n",
    "ab=net.forward()[0, :, :, :].transpose((1,2,0))\n",
    "ab=cv2.resize(ab,(bw_image.shape[1],bw_image.shape[0]))\n",
    "\n",
    "L=cv2.split(lab)[0]\n",
    "colorized=np.concatenate((L[:,:,np.newaxis],ab),axis=2)\n",
    "colorized=cv2.cvtColor(colorized,cv2.COLOR_LAB2BGR)\n",
    "colorized=(255.0 *colorized).astype(\"uint8\")\n",
    "\n",
    "\n",
    "cv2.imshow(\"BW image\",bw_image)\n",
    "cv2.imshow(\"Colorized\",colorized)\n",
    "cv2.waitKey(0)\n",
    "cv2.destroyAllWindows()"
   ]
  },
  {
   "cell_type": "code",
   "execution_count": null,
   "id": "8eae9658",
   "metadata": {},
   "outputs": [],
   "source": []
  }
 ],
 "metadata": {
  "kernelspec": {
   "display_name": "Python 3 (ipykernel)",
   "language": "python",
   "name": "python3"
  },
  "language_info": {
   "codemirror_mode": {
    "name": "ipython",
    "version": 3
   },
   "file_extension": ".py",
   "mimetype": "text/x-python",
   "name": "python",
   "nbconvert_exporter": "python",
   "pygments_lexer": "ipython3",
   "version": "3.11.7"
  }
 },
 "nbformat": 4,
 "nbformat_minor": 5
}
